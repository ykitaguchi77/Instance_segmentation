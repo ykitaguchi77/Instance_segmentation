{
  "nbformat": 4,
  "nbformat_minor": 0,
  "metadata": {
    "colab": {
      "provenance": [],
      "authorship_tag": "ABX9TyOLlm/JmOLHRtX+ARMgdaAT",
      "include_colab_link": true
    },
    "kernelspec": {
      "name": "python3",
      "display_name": "Python 3"
    },
    "language_info": {
      "name": "python"
    }
  },
  "cells": [
    {
      "cell_type": "markdown",
      "metadata": {
        "id": "view-in-github",
        "colab_type": "text"
      },
      "source": [
        "<a href=\"https://colab.research.google.com/github/ykitaguchi77/Instance_segmentation/blob/main/Train_YOLOv11_segmentation.ipynb\" target=\"_parent\"><img src=\"https://colab.research.google.com/assets/colab-badge.svg\" alt=\"Open In Colab\"/></a>"
      ]
    },
    {
      "cell_type": "markdown",
      "source": [
        "# **Train YOLOv11_segmentation (local)**"
      ],
      "metadata": {
        "id": "qUD5iCIXt9pA"
      }
    },
    {
      "cell_type": "code",
      "execution_count": null,
      "metadata": {
        "id": "9Zonli4ct89T"
      },
      "outputs": [],
      "source": [
        "import torch\n",
        "\n",
        "# CUDAが使えるかどうかを確認\n",
        "cuda_available = torch.cuda.is_available()\n",
        "\n",
        "if cuda_available:\n",
        "    print(f\"CUDA is available! GPU: {torch.cuda.get_device_name(0)}\")\n",
        "else:\n",
        "    print(\"CUDA is not available.\")"
      ]
    },
    {
      "cell_type": "markdown",
      "source": [
        "### Train"
      ],
      "metadata": {
        "id": "niaUDZvDuTV-"
      }
    },
    {
      "cell_type": "code",
      "source": [
        "from ultralytics import YOLO\n",
        "\n",
        "# Load a pretrained YOLO11 segment model\n",
        "model = YOLO(\"yolo11x-seg.pt\")\n",
        "\n",
        "# Train the model (eyelid, iris, pupil)\n",
        "yaml_path = r\"C:\\Users\\CorneAI\\Desktop\\Mobius_single_annot\\pupil\\eyesegmentation.yaml\"\n",
        "results = model.train(data=yaml_path, epochs=600, imgsz=640)\n"
      ],
      "metadata": {
        "id": "owd2nTyOuHvL"
      },
      "execution_count": null,
      "outputs": []
    },
    {
      "cell_type": "markdown",
      "source": [
        "### Resume"
      ],
      "metadata": {
        "id": "j2mPHnSjuVei"
      }
    },
    {
      "cell_type": "code",
      "source": [
        "from ultralytics import YOLO\n",
        "# Resume training\n",
        "# Load a model\n",
        "model = YOLO(r\"C:\\Users\\CorneAI\\YOLOv11_Mobius\\instanceenv\\runs\\segment\\train15\\weights\\last.pt\")  # load a partially trained model\n",
        "results = model.train(resume=True)"
      ],
      "metadata": {
        "id": "ybSeZ4BxuW6P"
      },
      "execution_count": null,
      "outputs": []
    },
    {
      "cell_type": "code",
      "source": [
        "\"\"\"\n",
        "project/\n",
        "│\n",
        "├── data/\n",
        "│   ├── train/\n",
        "│   │   ├── images/\n",
        "│   │   └── labels/\n",
        "│   │\n",
        "│   ├── val/\n",
        "│   │   ├── images/\n",
        "│   │   └── labels/\n",
        "│   │\n",
        "│   └── test/  (オプション)\n",
        "│       ├── images/\n",
        "│       └── labels/\n",
        "│\n",
        "│\n",
        "├── dataset.yaml\n",
        "│\n",
        "├── models/\n",
        "│\n",
        "└── runs/  (トレーニング結果が保存される)"
      ],
      "metadata": {
        "id": "a_joaDtgukci"
      },
      "execution_count": null,
      "outputs": []
    },
    {
      "cell_type": "code",
      "source": [],
      "metadata": {
        "id": "pliYd4ZvuO6g"
      },
      "execution_count": null,
      "outputs": []
    }
  ]
}