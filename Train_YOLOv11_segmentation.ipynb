{
  "nbformat": 4,
  "nbformat_minor": 0,
  "metadata": {
    "colab": {
      "provenance": [],
      "authorship_tag": "ABX9TyO4bgt4ZikcyafvcEIf27xk",
      "include_colab_link": true
    },
    "kernelspec": {
      "name": "python3",
      "display_name": "Python 3"
    },
    "language_info": {
      "name": "python"
    }
  },
  "cells": [
    {
      "cell_type": "markdown",
      "metadata": {
        "id": "view-in-github",
        "colab_type": "text"
      },
      "source": [
        "<a href=\"https://colab.research.google.com/github/ykitaguchi77/Instance_segmentation/blob/main/Train_YOLOv11_segmentation.ipynb\" target=\"_parent\"><img src=\"https://colab.research.google.com/assets/colab-badge.svg\" alt=\"Open In Colab\"/></a>"
      ]
    },
    {
      "cell_type": "markdown",
      "source": [
        "# **Train YOLOv11_segmentation (local)**"
      ],
      "metadata": {
        "id": "qUD5iCIXt9pA"
      }
    },
    {
      "cell_type": "code",
      "execution_count": null,
      "metadata": {
        "id": "9Zonli4ct89T"
      },
      "outputs": [],
      "source": [
        "import torch\n",
        "\n",
        "# CUDAが使えるかどうかを確認\n",
        "cuda_available = torch.cuda.is_available()\n",
        "\n",
        "if cuda_available:\n",
        "    print(f\"CUDA is available! GPU: {torch.cuda.get_device_name(0)}\")\n",
        "else:\n",
        "    print(\"CUDA is not available.\")"
      ]
    },
    {
      "cell_type": "markdown",
      "source": [
        "### Train"
      ],
      "metadata": {
        "id": "niaUDZvDuTV-"
      }
    },
    {
      "cell_type": "code",
      "source": [
        "from ultralytics import YOLO\n",
        "\n",
        "# Load a pretrained YOLO11 segment model\n",
        "model = YOLO(\"yolo11x-seg.pt\")\n",
        "\n",
        "# Train the model (eyelid, iris, pupil)\n",
        "yaml_path = r\"C:\\Users\\CorneAI\\Desktop\\Mobius_single_annot\\pupil\\eyesegmentation.yaml\"\n",
        "results = model.train(data=yaml_path, epochs=600, imgsz=640)\n"
      ],
      "metadata": {
        "id": "owd2nTyOuHvL"
      },
      "execution_count": null,
      "outputs": []
    },
    {
      "cell_type": "markdown",
      "source": [
        "### Resume"
      ],
      "metadata": {
        "id": "j2mPHnSjuVei"
      }
    },
    {
      "cell_type": "code",
      "source": [
        "from ultralytics import YOLO\n",
        "# Resume training\n",
        "# Load a model\n",
        "model = YOLO(r\"C:\\Users\\CorneAI\\YOLOv11_Mobius\\instanceenv\\runs\\segment\\train15\\weights\\last.pt\")  # load a partially trained model\n",
        "results = model.train(resume=True)"
      ],
      "metadata": {
        "id": "ybSeZ4BxuW6P"
      },
      "execution_count": null,
      "outputs": []
    },
    {
      "cell_type": "code",
      "source": [
        "\"\"\"\n",
        "project/\n",
        "│\n",
        "├── data/\n",
        "│   ├── train/\n",
        "│   │   ├── images/\n",
        "│   │   └── labels/\n",
        "│   │\n",
        "│   ├── val/\n",
        "│   │   ├── images/\n",
        "│   │   └── labels/\n",
        "│   │\n",
        "│   └── test/  (オプション)\n",
        "│       ├── images/\n",
        "│       └── labels/\n",
        "│\n",
        "│\n",
        "├── dataset.yaml\n",
        "│\n",
        "├── models/\n",
        "│\n",
        "└── runs/  (トレーニング結果が保存される)"
      ],
      "metadata": {
        "id": "a_joaDtgukci"
      },
      "execution_count": null,
      "outputs": []
    },
    {
      "cell_type": "markdown",
      "source": [
        "#**Inference**\n",
        "\n",
        "https://docs.ultralytics.com/modes/predict/#why-use-ultralytics-yolo-for-inference"
      ],
      "metadata": {
        "id": "WZxfQTslvcMG"
      }
    },
    {
      "cell_type": "code",
      "source": [
        "from ultralytics import YOLO\n",
        "import matplotlib.pyplot as plt\n",
        "\n",
        "#image_path = r\"C:\\CorneAI\\DemoImage\\典型例\\【正常】demo008.BMP\"\n",
        "#image_path = r\"C:\\Users\\CorneAI\\YOLOv11_Mobius\\samples\\sample_1.jpg\"\n",
        "image_path = r\"C:\\Users\\CorneAI\\YOLOv11_Mobius\\Segmentation_test_images\\内斜視\\5409-20030521-1-083545_9f2969d8ae990d14e09de27a0378a196f684c66f54658d24944400ec365229d1.JPG\"\n",
        "#image_path = r\"C:\\Users\\CorneAI\\YOLOv11_Mobius\\Segmentation_test_images\\先天性眼瞼下垂\\93-20170215-3-134156_1aa2bdb042b6ecd2749d0f93d0831ead1e35e5267d50ae4d8d5c382816377408.jpg\"\n",
        "\n",
        "model = YOLO(r\"C:\\Users\\CorneAI\\YOLOv11_Mobius\\instanceenv\\runs\\segment\\train7\\weights\\best.pt\")  # load a pretrained model (recommended for training)\n",
        "#model = YOLO(r\"C:\\Users\\CorneAI\\YOLOv11_Mobius\\models\\best_n_458epochs.pt\")  # load a pretrained model (recommended for training)\n",
        "\n",
        "results = model(image_path,save=False)\n",
        "\n",
        "# Process results list\n",
        "for result in results:\n",
        "    boxes = result.boxes  # Boxes object for bounding box outputs\n",
        "    masks = result.masks  # Masks object for segmentation masks outputs\n",
        "    keypoints = result.keypoints  # Keypoints object for pose outputs\n",
        "    probs = result.probs  # Probs object for classification outputs\n",
        "    obb = result.obb  # Oriented boxes object for OBB outputs\n",
        "    result.show()  # display to screen\n",
        "    result.save(filename=\"result.jpg\")  # save to disk"
      ],
      "metadata": {
        "id": "pliYd4ZvuO6g"
      },
      "execution_count": null,
      "outputs": []
    },
    {
      "cell_type": "markdown",
      "source": [
        "### 座標の表示のみ"
      ],
      "metadata": {
        "id": "czr9T4FdvvAy"
      }
    },
    {
      "cell_type": "code",
      "source": [
        "from ultralytics import YOLO\n",
        "\n",
        "# モデルとイメージの読み込み\n",
        "image_path = r\"C:\\Users\\CorneAI\\YOLOv11_Mobius\\samples\\sample_2.jpg\"\n",
        "model = YOLO(r\"C:\\Users\\CorneAI\\YOLOv11_Mobius\\models\\best_458epochs.pt\")\n",
        "results = model(image_path, save=False)\n",
        "\n",
        "# 各検出結果に対してセグメントの座標を表示\n",
        "for result in results:\n",
        "    # マスクが存在する場合\n",
        "    if result.masks is not None:\n",
        "        masks = result.masks  # Masks objectを取得\n",
        "\n",
        "        # xy座標を取得（ピクセル座標）\n",
        "        segments = masks.xy  # リストのリストとして座標を取得\n",
        "\n",
        "        # 各セグメントに対して処理\n",
        "        for i, segment in enumerate(segments):\n",
        "            print(f\"Segment {i + 1}:\")\n",
        "            print(\"Coordinates (x, y):\")\n",
        "            # 座標点を表示\n",
        "            for point in segment:\n",
        "                print(f\"({point[0]:.1f}, {point[1]:.1f})\")\n",
        "            print(\"-\" * 50)"
      ],
      "metadata": {
        "id": "tgTd2I4kvnMM"
      },
      "execution_count": null,
      "outputs": []
    },
    {
      "cell_type": "markdown",
      "source": [
        "### 並べて表示\n"
      ],
      "metadata": {
        "id": "4_WM4au4wNlF"
      }
    },
    {
      "cell_type": "code",
      "source": [
        "from ultralytics import YOLO\n",
        "import cv2\n",
        "import numpy as np\n",
        "import matplotlib.pyplot as plt\n",
        "\n",
        "def display_single_image(image_path, model_path):\n",
        "    # モデルの読み込み\n",
        "    model = YOLO(model_path)\n",
        "\n",
        "    # 画像の読み込み\n",
        "    original_img = cv2.imread(image_path)\n",
        "    if original_img is None:\n",
        "        print(f\"Failed to load image: {image_path}\")\n",
        "        return\n",
        "\n",
        "    # 推論の実行\n",
        "    results = model(original_img)\n",
        "\n",
        "    # マスクの描画された画像を取得（ラベルなし）\n",
        "    predicted_img = results[0].plot(labels=False, boxes=False)\n",
        "\n",
        "    # 画像のサイズを揃える\n",
        "    h1, w1 = original_img.shape[:2]\n",
        "    h2, w2 = predicted_img.shape[:2]\n",
        "\n",
        "    # 大きい方のサイズに合わせる\n",
        "    max_h = max(h1, h2)\n",
        "    max_w = max(w1, w2)\n",
        "\n",
        "    # パディング\n",
        "    padded_original = np.zeros((max_h, max_w, 3), dtype=np.uint8)\n",
        "    padded_predicted = np.zeros((max_h, max_w, 3), dtype=np.uint8)\n",
        "\n",
        "    # 元画像をパディングした画像に配置\n",
        "    padded_original[:h1, :w1] = original_img\n",
        "    padded_predicted[:h2, :w2] = predicted_img\n",
        "\n",
        "    # 画像を横に連結\n",
        "    combined_img = np.hstack((padded_original, padded_predicted))\n",
        "\n",
        "    # Matplotlib で表示\n",
        "    plt.figure(figsize=(20, 10))\n",
        "    plt.imshow(cv2.cvtColor(combined_img, cv2.COLOR_BGR2RGB))\n",
        "    plt.axis('off')\n",
        "    plt.show()\n",
        "\n",
        "# パラメータの設定\n",
        "model_path = r\"C:\\Users\\CorneAI\\YOLOv11_Mobius\\models\\best_x_600epochs.pt\"\n",
        "image_path = r\"C:\\Users\\CorneAI\\YOLOv11_Mobius\\samples\\sample_2.jpg\"\n",
        "\n",
        "# 実行\n",
        "display_single_image(image_path, model_path)"
      ],
      "metadata": {
        "id": "X-_faQ7PvyGv"
      },
      "execution_count": null,
      "outputs": []
    }
  ]
}